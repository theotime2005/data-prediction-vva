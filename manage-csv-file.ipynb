{
 "cells": [
  {
   "cell_type": "markdown",
   "metadata": {},
   "source": [
    "## Cellule\n",
    "La cellule suivante est dédiée aux imports de fonction"
   ]
  },
  {
   "cell_type": "code",
   "execution_count": 25,
   "metadata": {},
   "outputs": [],
   "source": [
    "import pandas as pd\n",
    "import os"
   ]
  },
  {
   "cell_type": "markdown",
   "metadata": {},
   "source": [
    "## Description de la cellule\n",
    "La cellule suivant permet d'importer un fichier .csv"
   ]
  },
  {
   "cell_type": "code",
   "execution_count": 26,
   "metadata": {},
   "outputs": [],
   "source": [
    "def read_csv(file):\n",
    "    return pd.read_csv(file)"
   ]
  },
  {
   "cell_type": "markdown",
   "metadata": {},
   "source": [
    "## Description\n",
    "Test des csv"
   ]
  },
  {
   "cell_type": "code",
   "execution_count": 27,
   "metadata": {},
   "outputs": [],
   "source": [
    "csv_data = {}\n",
    "\n",
    "for file in os.listdir(\"csv\"):\n",
    "    csv_data[file.split('.')[0]]=read_csv(\"csv/\"+file)"
   ]
  },
  {
   "cell_type": "markdown",
   "metadata": {},
   "source": [
    "## Filtrage du circuit"
   ]
  },
  {
   "cell_type": "code",
   "execution_count": 28,
   "metadata": {},
   "outputs": [],
   "source": [
    "circuits = csv_data['circuits'].drop(['circuitId', 'circuitRef', 'location', 'country', 'alt', 'url'], axis=1)\n",
    "constructor_results = csv_data['constructor_results'].drop(['constructorResultsId', 'status'], axis=1)\n",
    "constructor_standings = csv_data['constructor_standings'].drop(['constructorStandingsId', 'position', 'positionText'], axis=1)\n",
    "constructors = csv_data['constructors'].drop(['constructorRef', 'url'], axis=1)\n",
    "driver_standings = csv_data['driver_standings'].drop(['driverStandingsId', 'position', 'positionText'], axis=1)\n",
    "drivers = csv_data['drivers'].drop(['driverRef', 'number', 'code', 'dob', 'url'], axis=1)\n",
    "lap_times = csv_data['lap_times']\n",
    "pit_stops = csv_data['pit_stops']\n",
    "qualifying = csv_data['qualifying'].drop([\"qualifyId\", 'number'], axis=1)\n",
    "races = csv_data['races'].drop(['raceId', 'year', 'circuitId', 'url'], axis=1)\n",
    "result = csv_data['results'].drop(['resultId', 'number', 'grid', 'positionText', 'fastestLap', 'statusId'], axis=1)\n",
    "sprint_results = csv_data['sprint_results'].drop(['resultId', 'number', 'grid', 'positionText', 'fastestLap', 'statusId'], axis=1)\n",
    "status = csv_data['status'].drop(['statusId'], axis=1)\n"
   ]
  },
  {
   "cell_type": "code",
   "execution_count": 29,
   "metadata": {},
   "outputs": [],
   "source": [
    "# Affichage des csv"
   ]
  }
 ],
 "metadata": {
  "kernelspec": {
   "display_name": "Python 3 (ipykernel)",
   "language": "python",
   "name": "python3"
  },
  "language_info": {
   "codemirror_mode": {
    "name": "ipython",
    "version": 3
   },
   "file_extension": ".py",
   "mimetype": "text/x-python",
   "name": "python",
   "nbconvert_exporter": "python",
   "pygments_lexer": "ipython3",
   "version": "3.12.5"
  }
 },
 "nbformat": 4,
 "nbformat_minor": 2
}

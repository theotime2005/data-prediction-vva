{
 "cells": [
  {
   "cell_type": "markdown",
   "metadata": {},
   "source": [
    "## Cellule\n",
    "La cellule suivante est dédiée aux imports de fonction"
   ]
  },
  {
   "cell_type": "code",
   "execution_count": 36,
   "metadata": {},
   "outputs": [],
   "source": [
    "import pandas as pd\n",
    "import os\n",
    "from fastparquet import ParquetFile"
   ]
  },
  {
   "cell_type": "markdown",
   "metadata": {},
   "source": [
    "## Description de la cellule\n",
    "La cellule suivant permet d'importer un fichier .csv"
   ]
  },
  {
   "cell_type": "code",
   "execution_count": 37,
   "metadata": {},
   "outputs": [],
   "source": [
    "def read_csv(file):\n",
    "    return pd.read_csv(file)"
   ]
  },
  {
   "cell_type": "markdown",
   "metadata": {},
   "source": [
    "## Description\n",
    "Importation des fichiers"
   ]
  },
  {
   "cell_type": "code",
   "execution_count": 38,
   "metadata": {},
   "outputs": [],
   "source": [
    "csv_data = {}\n",
    "\n",
    "for file in os.listdir(\"csv\"):\n",
    "    csv_data[file.split('.')[0]]=read_csv(\"csv/\"+file)"
   ]
  },
  {
   "cell_type": "markdown",
   "metadata": {},
   "source": [
    "## Description de la cellule\n",
    "Filtrage des données"
   ]
  },
  {
   "cell_type": "code",
   "execution_count": 39,
   "metadata": {},
   "outputs": [],
   "source": [
    "circuits = csv_data['circuits'].drop(['circuitId', 'circuitRef', 'location', 'country', 'alt', 'url'], axis=1)\n",
    "constructor_results = csv_data['constructor_results'].drop(['constructorResultsId', 'status'], axis=1)\n",
    "constructor_standings = csv_data['constructor_standings'].drop(['constructorStandingsId', 'position', 'positionText'], axis=1)\n",
    "constructors = csv_data['constructors'].drop(['constructorRef', 'url'], axis=1)\n",
    "driver_standings = csv_data['driver_standings'].drop(['driverStandingsId', 'position', 'positionText'], axis=1)\n",
    "drivers = csv_data['drivers'].drop(['driverRef', 'number', 'code', 'dob', 'url'], axis=1)\n",
    "lap_times = csv_data['lap_times']\n",
    "pit_stops = csv_data['pit_stops']\n",
    "qualifying = csv_data['qualifying'].drop([\"qualifyId\", 'number'], axis=1)\n",
    "races = csv_data['races'].drop(['raceId', 'year', 'circuitId', 'url'], axis=1)\n",
    "result = csv_data['results'].drop(['resultId', 'number', 'grid', 'positionText', 'fastestLap', 'statusId'], axis=1)\n",
    "sprint_results = csv_data['sprint_results'].drop(['resultId', 'number', 'grid', 'positionText', 'fastestLap', 'statusId'], axis=1)\n",
    "status = csv_data['status'].drop(['statusId'], axis=1)\n"
   ]
  },
  {
   "cell_type": "markdown",
   "metadata": {},
   "source": [
    "## Description de la cellule\n",
    "Importation du fichier parquet"
   ]
  },
  {
   "cell_type": "code",
   "execution_count": 40,
   "metadata": {},
   "outputs": [],
   "source": [
    "dp = ParquetFile('weather.parquet')\n",
    "weather = dp.to_pandas()"
   ]
  }
 ],
 "metadata": {
  "kernelspec": {
   "display_name": "Python 3 (ipykernel)",
   "language": "python",
   "name": "python3"
  }
 },
 "nbformat": 4,
 "nbformat_minor": 2
}
